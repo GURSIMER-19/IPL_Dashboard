{
 "cells": [
  {
   "cell_type": "code",
   "execution_count": 1,
   "id": "8a2a0b66",
   "metadata": {},
   "outputs": [],
   "source": [
    "import numpy as np\n",
    "import pandas as pd"
   ]
  },
  {
   "cell_type": "code",
   "execution_count": 2,
   "id": "680b443a",
   "metadata": {},
   "outputs": [],
   "source": [
    "d1 = pd.read_csv(\"fin.csv\")\n",
    "d2 = pd.read_csv(\"match_info_data.csv\")"
   ]
  },
  {
   "cell_type": "code",
   "execution_count": 8,
   "id": "8c9acf92",
   "metadata": {},
   "outputs": [
    {
     "ename": "KeyError",
     "evalue": "'leftsemi'",
     "output_type": "error",
     "traceback": [
      "\u001b[1;31m---------------------------------------------------------------------------\u001b[0m",
      "\u001b[1;31mKeyError\u001b[0m                                  Traceback (most recent call last)",
      "\u001b[1;32m~\\AppData\\Local\\Temp/ipykernel_15044/2782752958.py\u001b[0m in \u001b[0;36m<module>\u001b[1;34m\u001b[0m\n\u001b[1;32m----> 1\u001b[1;33m \u001b[0md3\u001b[0m \u001b[1;33m=\u001b[0m \u001b[0mpd\u001b[0m\u001b[1;33m.\u001b[0m\u001b[0mmerge\u001b[0m\u001b[1;33m(\u001b[0m\u001b[0md2\u001b[0m\u001b[1;33m,\u001b[0m \u001b[0md1\u001b[0m\u001b[1;33m,\u001b[0m \u001b[0mhow\u001b[0m \u001b[1;33m=\u001b[0m\u001b[1;34m'leftsemi'\u001b[0m\u001b[1;33m,\u001b[0m \u001b[0mon\u001b[0m \u001b[1;33m=\u001b[0m\u001b[1;34m'match_id'\u001b[0m\u001b[1;33m)\u001b[0m\u001b[1;33m\u001b[0m\u001b[1;33m\u001b[0m\u001b[0m\n\u001b[0m",
      "\u001b[1;32mC:\\ProgramData\\Anaconda3\\lib\\site-packages\\pandas\\core\\reshape\\merge.py\u001b[0m in \u001b[0;36mmerge\u001b[1;34m(left, right, how, on, left_on, right_on, left_index, right_index, sort, suffixes, copy, indicator, validate)\u001b[0m\n\u001b[0;32m    119\u001b[0m         \u001b[0mvalidate\u001b[0m\u001b[1;33m=\u001b[0m\u001b[0mvalidate\u001b[0m\u001b[1;33m,\u001b[0m\u001b[1;33m\u001b[0m\u001b[1;33m\u001b[0m\u001b[0m\n\u001b[0;32m    120\u001b[0m     )\n\u001b[1;32m--> 121\u001b[1;33m     \u001b[1;32mreturn\u001b[0m \u001b[0mop\u001b[0m\u001b[1;33m.\u001b[0m\u001b[0mget_result\u001b[0m\u001b[1;33m(\u001b[0m\u001b[1;33m)\u001b[0m\u001b[1;33m\u001b[0m\u001b[1;33m\u001b[0m\u001b[0m\n\u001b[0m\u001b[0;32m    122\u001b[0m \u001b[1;33m\u001b[0m\u001b[0m\n\u001b[0;32m    123\u001b[0m \u001b[1;33m\u001b[0m\u001b[0m\n",
      "\u001b[1;32mC:\\ProgramData\\Anaconda3\\lib\\site-packages\\pandas\\core\\reshape\\merge.py\u001b[0m in \u001b[0;36mget_result\u001b[1;34m(self)\u001b[0m\n\u001b[0;32m    713\u001b[0m             \u001b[0mself\u001b[0m\u001b[1;33m.\u001b[0m\u001b[0mleft\u001b[0m\u001b[1;33m,\u001b[0m \u001b[0mself\u001b[0m\u001b[1;33m.\u001b[0m\u001b[0mright\u001b[0m \u001b[1;33m=\u001b[0m \u001b[0mself\u001b[0m\u001b[1;33m.\u001b[0m\u001b[0m_indicator_pre_merge\u001b[0m\u001b[1;33m(\u001b[0m\u001b[0mself\u001b[0m\u001b[1;33m.\u001b[0m\u001b[0mleft\u001b[0m\u001b[1;33m,\u001b[0m \u001b[0mself\u001b[0m\u001b[1;33m.\u001b[0m\u001b[0mright\u001b[0m\u001b[1;33m)\u001b[0m\u001b[1;33m\u001b[0m\u001b[1;33m\u001b[0m\u001b[0m\n\u001b[0;32m    714\u001b[0m \u001b[1;33m\u001b[0m\u001b[0m\n\u001b[1;32m--> 715\u001b[1;33m         \u001b[0mjoin_index\u001b[0m\u001b[1;33m,\u001b[0m \u001b[0mleft_indexer\u001b[0m\u001b[1;33m,\u001b[0m \u001b[0mright_indexer\u001b[0m \u001b[1;33m=\u001b[0m \u001b[0mself\u001b[0m\u001b[1;33m.\u001b[0m\u001b[0m_get_join_info\u001b[0m\u001b[1;33m(\u001b[0m\u001b[1;33m)\u001b[0m\u001b[1;33m\u001b[0m\u001b[1;33m\u001b[0m\u001b[0m\n\u001b[0m\u001b[0;32m    716\u001b[0m \u001b[1;33m\u001b[0m\u001b[0m\n\u001b[0;32m    717\u001b[0m         llabels, rlabels = _items_overlap_with_suffix(\n",
      "\u001b[1;32mC:\\ProgramData\\Anaconda3\\lib\\site-packages\\pandas\\core\\reshape\\merge.py\u001b[0m in \u001b[0;36m_get_join_info\u001b[1;34m(self)\u001b[0m\n\u001b[0;32m    964\u001b[0m             )\n\u001b[0;32m    965\u001b[0m         \u001b[1;32melse\u001b[0m\u001b[1;33m:\u001b[0m\u001b[1;33m\u001b[0m\u001b[1;33m\u001b[0m\u001b[0m\n\u001b[1;32m--> 966\u001b[1;33m             \u001b[1;33m(\u001b[0m\u001b[0mleft_indexer\u001b[0m\u001b[1;33m,\u001b[0m \u001b[0mright_indexer\u001b[0m\u001b[1;33m)\u001b[0m \u001b[1;33m=\u001b[0m \u001b[0mself\u001b[0m\u001b[1;33m.\u001b[0m\u001b[0m_get_join_indexers\u001b[0m\u001b[1;33m(\u001b[0m\u001b[1;33m)\u001b[0m\u001b[1;33m\u001b[0m\u001b[1;33m\u001b[0m\u001b[0m\n\u001b[0m\u001b[0;32m    967\u001b[0m \u001b[1;33m\u001b[0m\u001b[0m\n\u001b[0;32m    968\u001b[0m             \u001b[1;32mif\u001b[0m \u001b[0mself\u001b[0m\u001b[1;33m.\u001b[0m\u001b[0mright_index\u001b[0m\u001b[1;33m:\u001b[0m\u001b[1;33m\u001b[0m\u001b[1;33m\u001b[0m\u001b[0m\n",
      "\u001b[1;32mC:\\ProgramData\\Anaconda3\\lib\\site-packages\\pandas\\core\\reshape\\merge.py\u001b[0m in \u001b[0;36m_get_join_indexers\u001b[1;34m(self)\u001b[0m\n\u001b[0;32m    938\u001b[0m         \u001b[1;34m\"\"\"return the join indexers\"\"\"\u001b[0m\u001b[1;33m\u001b[0m\u001b[1;33m\u001b[0m\u001b[0m\n\u001b[0;32m    939\u001b[0m         \u001b[1;31m# Both returned ndarrays are np.intp\u001b[0m\u001b[1;33m\u001b[0m\u001b[1;33m\u001b[0m\u001b[0m\n\u001b[1;32m--> 940\u001b[1;33m         return get_join_indexers(\n\u001b[0m\u001b[0;32m    941\u001b[0m             \u001b[0mself\u001b[0m\u001b[1;33m.\u001b[0m\u001b[0mleft_join_keys\u001b[0m\u001b[1;33m,\u001b[0m \u001b[0mself\u001b[0m\u001b[1;33m.\u001b[0m\u001b[0mright_join_keys\u001b[0m\u001b[1;33m,\u001b[0m \u001b[0msort\u001b[0m\u001b[1;33m=\u001b[0m\u001b[0mself\u001b[0m\u001b[1;33m.\u001b[0m\u001b[0msort\u001b[0m\u001b[1;33m,\u001b[0m \u001b[0mhow\u001b[0m\u001b[1;33m=\u001b[0m\u001b[0mself\u001b[0m\u001b[1;33m.\u001b[0m\u001b[0mhow\u001b[0m\u001b[1;33m\u001b[0m\u001b[1;33m\u001b[0m\u001b[0m\n\u001b[0;32m    942\u001b[0m         )\n",
      "\u001b[1;32mC:\\ProgramData\\Anaconda3\\lib\\site-packages\\pandas\\core\\reshape\\merge.py\u001b[0m in \u001b[0;36mget_join_indexers\u001b[1;34m(left_keys, right_keys, sort, how, **kwargs)\u001b[0m\n\u001b[0;32m   1494\u001b[0m     \u001b[1;32mif\u001b[0m \u001b[0mhow\u001b[0m \u001b[1;32min\u001b[0m \u001b[1;33m(\u001b[0m\u001b[1;34m\"left\"\u001b[0m\u001b[1;33m,\u001b[0m \u001b[1;34m\"right\"\u001b[0m\u001b[1;33m)\u001b[0m\u001b[1;33m:\u001b[0m\u001b[1;33m\u001b[0m\u001b[1;33m\u001b[0m\u001b[0m\n\u001b[0;32m   1495\u001b[0m         \u001b[0mkwargs\u001b[0m\u001b[1;33m[\u001b[0m\u001b[1;34m\"sort\"\u001b[0m\u001b[1;33m]\u001b[0m \u001b[1;33m=\u001b[0m \u001b[0msort\u001b[0m\u001b[1;33m\u001b[0m\u001b[1;33m\u001b[0m\u001b[0m\n\u001b[1;32m-> 1496\u001b[1;33m     join_func = {\n\u001b[0m\u001b[0;32m   1497\u001b[0m         \u001b[1;34m\"inner\"\u001b[0m\u001b[1;33m:\u001b[0m \u001b[0mlibjoin\u001b[0m\u001b[1;33m.\u001b[0m\u001b[0minner_join\u001b[0m\u001b[1;33m,\u001b[0m\u001b[1;33m\u001b[0m\u001b[1;33m\u001b[0m\u001b[0m\n\u001b[0;32m   1498\u001b[0m         \u001b[1;34m\"left\"\u001b[0m\u001b[1;33m:\u001b[0m \u001b[0mlibjoin\u001b[0m\u001b[1;33m.\u001b[0m\u001b[0mleft_outer_join\u001b[0m\u001b[1;33m,\u001b[0m\u001b[1;33m\u001b[0m\u001b[1;33m\u001b[0m\u001b[0m\n",
      "\u001b[1;31mKeyError\u001b[0m: 'leftsemi'"
     ]
    }
   ],
   "source": [
    "d3 = pd.merge(d2, d1, how ='', on ='match_id') "
   ]
  },
  {
   "cell_type": "code",
   "execution_count": 13,
   "id": "6c579f03",
   "metadata": {},
   "outputs": [],
   "source": [
    "d4 = d3.iloc[:, 0:17]"
   ]
  },
  {
   "cell_type": "code",
   "execution_count": 16,
   "id": "e002d606",
   "metadata": {},
   "outputs": [
    {
     "name": "stdout",
     "output_type": "stream",
     "text": [
      "<class 'pandas.core.frame.DataFrame'>\n",
      "Int64Index: 243817 entries, 0 to 243816\n",
      "Data columns (total 58 columns):\n",
      " #   Column                  Non-Null Count   Dtype  \n",
      "---  ------                  --------------   -----  \n",
      " 0   match_id                243817 non-null  int64  \n",
      " 1   season                  243817 non-null  int64  \n",
      " 2   city_x                  231420 non-null  object \n",
      " 3   date_x                  243817 non-null  object \n",
      " 4   team1_x                 243817 non-null  object \n",
      " 5   team2_x                 243817 non-null  object \n",
      " 6   toss_winner_x           243817 non-null  object \n",
      " 7   toss_decision_x         243817 non-null  object \n",
      " 8   result_x                243817 non-null  object \n",
      " 9   dl_applied_x            243817 non-null  int64  \n",
      " 10  winner_x                243327 non-null  object \n",
      " 11  win_type                240171 non-null  object \n",
      " 12  win_by_runs_x           243817 non-null  int64  \n",
      " 13  win_by_wickets_x        243817 non-null  int64  \n",
      " 14  player_of_match_x       243327 non-null  object \n",
      " 15  umpire1_x               243817 non-null  object \n",
      " 16  umpire2_x               243817 non-null  object \n",
      " 17  umpire3_x               243128 non-null  object \n",
      " 18  Unnamed: 0              243817 non-null  int64  \n",
      " 19  season_x                243817 non-null  int64  \n",
      " 20  start_date              243817 non-null  object \n",
      " 21  venue                   243817 non-null  object \n",
      " 22  innings                 243817 non-null  int64  \n",
      " 23  over                    243817 non-null  int64  \n",
      " 24  ball                    243817 non-null  int64  \n",
      " 25  batting_team            243817 non-null  object \n",
      " 26  bowling_team            243817 non-null  object \n",
      " 27  striker                 243817 non-null  object \n",
      " 28  non_striker             243817 non-null  object \n",
      " 29  bowler                  243817 non-null  object \n",
      " 30  runs_off_bat            243817 non-null  int64  \n",
      " 31  extras                  243817 non-null  int64  \n",
      " 32  wides                   7652 non-null    float64\n",
      " 33  noballs                 1018 non-null    float64\n",
      " 34  byes                    628 non-null     float64\n",
      " 35  legbyes                 3778 non-null    float64\n",
      " 36  penalty                 2 non-null       float64\n",
      " 37  wicket_type             12067 non-null   object \n",
      " 38  player_dismissed        12067 non-null   object \n",
      " 39  other_wicket_type       0 non-null       float64\n",
      " 40  other_player_dismissed  0 non-null       float64\n",
      " 41  cricsheet_id            243817 non-null  int64  \n",
      " 42  season_y                243817 non-null  int64  \n",
      " 43  city_y                  231420 non-null  object \n",
      " 44  date_y                  243817 non-null  object \n",
      " 45  team1_y                 243817 non-null  object \n",
      " 46  team2_y                 243817 non-null  object \n",
      " 47  toss_winner_y           243817 non-null  object \n",
      " 48  toss_decision_y         243817 non-null  object \n",
      " 49  result_y                243817 non-null  object \n",
      " 50  dl_applied_y            243817 non-null  int64  \n",
      " 51  winner_y                243327 non-null  object \n",
      " 52  win_by_runs_y           243817 non-null  int64  \n",
      " 53  win_by_wickets_y        243817 non-null  int64  \n",
      " 54  player_of_match_y       243327 non-null  object \n",
      " 55  umpire1_y               243817 non-null  object \n",
      " 56  umpire2_y               243817 non-null  object \n",
      " 57  umpire3_y               243128 non-null  object \n",
      "dtypes: float64(7), int64(17), object(34)\n",
      "memory usage: 109.8+ MB\n"
     ]
    }
   ],
   "source": [
    "d3.info()"
   ]
  },
  {
   "cell_type": "code",
   "execution_count": 22,
   "id": "5a1aca0f",
   "metadata": {},
   "outputs": [],
   "source": [
    "d5 = d3[['match_id','venue']]"
   ]
  },
  {
   "cell_type": "code",
   "execution_count": 23,
   "id": "83285558",
   "metadata": {},
   "outputs": [
    {
     "name": "stdout",
     "output_type": "stream",
     "text": [
      "<class 'pandas.core.frame.DataFrame'>\n",
      "Int64Index: 243817 entries, 0 to 243816\n",
      "Data columns (total 2 columns):\n",
      " #   Column    Non-Null Count   Dtype \n",
      "---  ------    --------------   ----- \n",
      " 0   match_id  243817 non-null  int64 \n",
      " 1   venue     243817 non-null  object\n",
      "dtypes: int64(1), object(1)\n",
      "memory usage: 5.6+ MB\n"
     ]
    }
   ],
   "source": [
    "d5.info()"
   ]
  },
  {
   "cell_type": "code",
   "execution_count": 28,
   "id": "7df1fa90",
   "metadata": {},
   "outputs": [],
   "source": [
    "d6 = pd.concat([d4, d5], axis=1)"
   ]
  },
  {
   "cell_type": "code",
   "execution_count": 29,
   "id": "133d3768",
   "metadata": {},
   "outputs": [],
   "source": [
    "d7 = d6.drop_duplicates()"
   ]
  },
  {
   "cell_type": "code",
   "execution_count": 30,
   "id": "71af71cd",
   "metadata": {},
   "outputs": [
    {
     "name": "stdout",
     "output_type": "stream",
     "text": [
      "<class 'pandas.core.frame.DataFrame'>\n",
      "Int64Index: 1024 entries, 0 to 243592\n",
      "Data columns (total 19 columns):\n",
      " #   Column             Non-Null Count  Dtype \n",
      "---  ------             --------------  ----- \n",
      " 0   match_id           1024 non-null   int64 \n",
      " 1   season             1024 non-null   int64 \n",
      " 2   city_x             973 non-null    object\n",
      " 3   date_x             1024 non-null   object\n",
      " 4   team1_x            1024 non-null   object\n",
      " 5   team2_x            1024 non-null   object\n",
      " 6   toss_winner_x      1024 non-null   object\n",
      " 7   toss_decision_x    1024 non-null   object\n",
      " 8   result_x           1024 non-null   object\n",
      " 9   dl_applied_x       1024 non-null   int64 \n",
      " 10  winner_x           1019 non-null   object\n",
      " 11  win_type           1003 non-null   object\n",
      " 12  win_by_runs_x      1024 non-null   int64 \n",
      " 13  win_by_wickets_x   1024 non-null   int64 \n",
      " 14  player_of_match_x  1019 non-null   object\n",
      " 15  umpire1_x          1024 non-null   object\n",
      " 16  umpire2_x          1024 non-null   object\n",
      " 17  match_id           1024 non-null   int64 \n",
      " 18  venue              1024 non-null   object\n",
      "dtypes: int64(6), object(13)\n",
      "memory usage: 160.0+ KB\n"
     ]
    }
   ],
   "source": [
    "d7.info()"
   ]
  },
  {
   "cell_type": "code",
   "execution_count": 31,
   "id": "fcb52d20",
   "metadata": {},
   "outputs": [],
   "source": [
    "d7.to_csv(\"fin2.csv\")"
   ]
  },
  {
   "cell_type": "code",
   "execution_count": null,
   "id": "dceceecf",
   "metadata": {},
   "outputs": [],
   "source": []
  }
 ],
 "metadata": {
  "kernelspec": {
   "display_name": "Python 3 (ipykernel)",
   "language": "python",
   "name": "python3"
  },
  "language_info": {
   "codemirror_mode": {
    "name": "ipython",
    "version": 3
   },
   "file_extension": ".py",
   "mimetype": "text/x-python",
   "name": "python",
   "nbconvert_exporter": "python",
   "pygments_lexer": "ipython3",
   "version": "3.11.7"
  }
 },
 "nbformat": 4,
 "nbformat_minor": 5
}
